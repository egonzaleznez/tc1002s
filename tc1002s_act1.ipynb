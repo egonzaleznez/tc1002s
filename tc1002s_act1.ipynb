{
 "cells": [
  {
   "cell_type": "markdown",
   "metadata": {
    "id": "jPYBD5etWY_D"
   },
   "source": [
    "# TC1002S: HERRAMIENTAS COMPUTACIONALES"
   ]
  },
  {
   "cell_type": "markdown",
   "metadata": {
    "id": "h_n3EiHDYvXU"
   },
   "source": [
    "## Contenido\n",
    "\n",
    "1. Variables aritméticas y operaciones\n",
    "1. Condicionales\n",
    "1. Arrays and Matrices\n",
    "1. DataFrames\n"
   ]
  },
  {
   "cell_type": "markdown",
   "metadata": {
    "id": "t0gaCT6lYdiY"
   },
   "source": [
    "## 1. Variables aritméticas y operaciones"
   ]
  },
  {
   "cell_type": "code",
   "execution_count": null,
   "metadata": {
    "colab": {
     "base_uri": "https://localhost:8080/"
    },
    "executionInfo": {
     "elapsed": 339,
     "status": "ok",
     "timestamp": 1738329844281,
     "user": {
      "displayName": "Enrique Gonzalez",
      "userId": "11537615501324889345"
     },
     "user_tz": 360
    },
    "id": "vRdOQ4Z0TgbZ",
    "outputId": "21723133-c333-4601-c843-fef550288b9a"
   },
   "outputs": [
    {
     "name": "stdout",
     "output_type": "stream",
     "text": [
      "Hola, mi primer código\n"
     ]
    }
   ],
   "source": [
    "# instrucción para imprimir mensajes\n",
    "print(\"Hola, mi primer código\")"
   ]
  },
  {
   "cell_type": "code",
   "execution_count": null,
   "metadata": {
    "colab": {
     "base_uri": "https://localhost:8080/"
    },
    "executionInfo": {
     "elapsed": 348,
     "status": "ok",
     "timestamp": 1738330039836,
     "user": {
      "displayName": "Enrique Gonzalez",
      "userId": "11537615501324889345"
     },
     "user_tz": 360
    },
    "id": "9gx0eo2yTtSd",
    "outputId": "3fb8eb51-c4ef-42af-802e-1e1d366c648e"
   },
   "outputs": [
    {
     "name": "stdout",
     "output_type": "stream",
     "text": [
      "El resultado de la suma es:  5\n"
     ]
    }
   ],
   "source": [
    "# definición de variables y operaciones aritméticas\n",
    "a = 2\n",
    "b = 3\n",
    "c = a + b\n",
    "print(\"El resultado de la suma es: \", c)"
   ]
  },
  {
   "cell_type": "code",
   "execution_count": null,
   "metadata": {
    "colab": {
     "base_uri": "https://localhost:8080/"
    },
    "executionInfo": {
     "elapsed": 201,
     "status": "ok",
     "timestamp": 1738330137238,
     "user": {
      "displayName": "Enrique Gonzalez",
      "userId": "11537615501324889345"
     },
     "user_tz": 360
    },
    "id": "6y9ORkpbTzBg",
    "outputId": "d375583e-4738-4673-e8fa-2dc59619c824"
   },
   "outputs": [
    {
     "name": "stdout",
     "output_type": "stream",
     "text": [
      "El resultado de la multiplicación es:  20\n",
      "El resultado de la división es:  4.375\n"
     ]
    }
   ],
   "source": [
    "# más operaciones aritméticas\n",
    "d = 4 * 5\n",
    "print(\"El resultado de la multiplicación es: \", d)\n",
    "e = 35 / 8\n",
    "print(\"El resultado de la división es: \", e)"
   ]
  },
  {
   "cell_type": "markdown",
   "metadata": {
    "id": "ai6Kr4DheAzU"
   },
   "source": [
    "### Ejemplos"
   ]
  },
  {
   "cell_type": "markdown",
   "metadata": {
    "id": "BJGyAGICle1b"
   },
   "source": [
    "#### 1.1 Operaciones aritméticas con 2 números"
   ]
  },
  {
   "cell_type": "code",
   "execution_count": null,
   "metadata": {
    "colab": {
     "base_uri": "https://localhost:8080/"
    },
    "executionInfo": {
     "elapsed": 111782,
     "status": "ok",
     "timestamp": 1738330394748,
     "user": {
      "displayName": "Enrique Gonzalez",
      "userId": "11537615501324889345"
     },
     "user_tz": 360
    },
    "id": "pPzHOQpslm2r",
    "outputId": "64359fd0-fb7d-4c16-d545-5da871cc247e"
   },
   "outputs": [
    {
     "name": "stdout",
     "output_type": "stream",
     "text": [
      "dame el primer número 3\n",
      "dame el segundo número 4\n",
      "\n",
      "\n",
      "el primer núm es  3\n",
      "el núm 2 es  4\n",
      "El resultado de la suma es  7\n",
      "la resta es  -1\n",
      "la división es  0.75\n",
      "la multi es  12\n",
      "la potencia  81\n"
     ]
    }
   ],
   "source": [
    "var_uno = input(\"dame el primer número \") # pido el num\n",
    "v_uno = int(var_uno) # convierto la info de texto a num\n",
    "var_dos = int(input(\"dame el segundo número \")) # alternativa\n",
    "print(\"\\n\")\n",
    "\n",
    "print(\"el primer núm es \", var_uno)\n",
    "print(\"el núm 2 es \",var_dos)\n",
    "resultado = v_uno + var_dos\n",
    "print(\"El resultado de la suma es \", resultado)\n",
    "print(\"la resta es \", v_uno - var_dos)\n",
    "print(\"la división es \", v_uno/var_dos)\n",
    "print(\"la multi es \", v_uno*var_dos)\n",
    "print(\"la potencia \", v_uno**var_dos)"
   ]
  },
  {
   "cell_type": "code",
   "execution_count": null,
   "metadata": {
    "colab": {
     "base_uri": "https://localhost:8080/"
    },
    "executionInfo": {
     "elapsed": 10770,
     "status": "ok",
     "timestamp": 1738331557604,
     "user": {
      "displayName": "Enrique Gonzalez",
      "userId": "11537615501324889345"
     },
     "user_tz": 360
    },
    "id": "VEMx4QXhAyhD",
    "outputId": "1378859f-7f98-4f0d-d797-f2f66c9cae51"
   },
   "outputs": [
    {
     "name": "stdout",
     "output_type": "stream",
     "text": [
      "dame el primer número 2\n",
      "el primer núm es  2\n",
      "el primer núm es  0.67\n"
     ]
    }
   ],
   "source": [
    "variable = int(input(\"dame el primer número \"))\n",
    "print(\"el primer núm es \", variable)\n",
    "print(\"el primer núm es \", round(variable / 3,2))"
   ]
  },
  {
   "cell_type": "markdown",
   "metadata": {
    "id": "ZcfpeiqrfnYK"
   },
   "source": [
    "#### 1.2 Calcular el área de un rectángulo"
   ]
  },
  {
   "cell_type": "code",
   "execution_count": null,
   "metadata": {
    "colab": {
     "base_uri": "https://localhost:8080/"
    },
    "executionInfo": {
     "elapsed": 6194,
     "status": "ok",
     "timestamp": 1738849168852,
     "user": {
      "displayName": "Enrique Gonzalez",
      "userId": "11537615501324889345"
     },
     "user_tz": 360
    },
    "id": "cALTiSwTgac0",
    "outputId": "d627ceac-7640-4055-a999-8f02a3fce336"
   },
   "outputs": [
    {
     "name": "stdout",
     "output_type": "stream",
     "text": [
      "\n",
      "El área es:  12\n"
     ]
    }
   ],
   "source": [
    "# pido variables\n",
    "altura = int(input(\"dame la altura: \"))\n",
    "base = int(input(\"dame la base: \"))\n",
    "print()\n",
    "\n",
    "# calcular área del rectángulo\n",
    "area = base * altura\n",
    "\n",
    "print (\"El área es: \", area)"
   ]
  },
  {
   "cell_type": "markdown",
   "metadata": {
    "id": "pbC9THEMd7aE"
   },
   "source": [
    "#### 1.3 Calcular el área de un triángulo"
   ]
  },
  {
   "cell_type": "code",
   "execution_count": 12,
   "metadata": {},
   "outputs": [
    {
     "name": "stdout",
     "output_type": "stream",
     "text": [
      "\n",
      "El área es:  6.0\n"
     ]
    }
   ],
   "source": [
    "# pido variables\n",
    "altura = int(input(\"dame la altura: \"))\n",
    "base = int(input(\"dame la base: \"))\n",
    "print()\n",
    "\n",
    "# calcular área del triángulo\n",
    "area = (base * altura)/2\n",
    "\n",
    "print (\"El área es: \", area)"
   ]
  },
  {
   "cell_type": "markdown",
   "metadata": {},
   "source": [
    "#### 1.4 Costo total de terreno\n",
    "\n",
    "Una empresa vende terrenos de forma trapezoidal, como se muestra en la figura.\n",
    "Realiza el análisis y elabora un algoritmo que ayude a calcular el área total del terreno y el costo del mismo. El costo por metro cuadrado es de $3,450.\n",
    "Las unidades de a, b, c y d son metros. d puede ser diferente de c.\n",
    "\n",
    "\n",
    "![Screenshot 2025-01-30 at 16.52.38.png](data:image/png;base64,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)\n",
    "\n",
    "Prueba tu programa con los siguientes valores:\n",
    "\n",
    "a = 35\n",
    "\n",
    "b = 17\n",
    "\n",
    "c=3\n",
    "\n",
    "d = 10"
   ]
  },
  {
   "cell_type": "code",
   "execution_count": 10,
   "metadata": {
    "colab": {
     "base_uri": "https://localhost:8080/"
    },
    "executionInfo": {
     "elapsed": 6982,
     "status": "ok",
     "timestamp": 1738847649449,
     "user": {
      "displayName": "Enrique Gonzalez",
      "userId": "11537615501324889345"
     },
     "user_tz": 360
    },
    "id": "MH4QP0hkVwtq",
    "outputId": "1a17ed61-6ca8-4ccb-d8e5-fa3d23a58e1d"
   },
   "outputs": [
    {
     "name": "stdout",
     "output_type": "stream",
     "text": [
      "\n",
      "El valor del terreno es: $ 75900.0\n"
     ]
    }
   ],
   "source": [
    "# código costo total terreno\n",
    "\n",
    "# pido variables\n",
    "a = int(input(\"dame a: \")) # pido la variable a\n",
    "b = int(input(\"dame b: \")) # pido la variable b\n",
    "c = int(input(\"dame c: \"))\n",
    "d = int(input(\"dame d: \"))\n",
    "print()\n",
    "\n",
    "# calcular áreas\n",
    "a1 = a * b\n",
    "a2 = (b * d)/2\n",
    "a3 = (b * c)/2\n",
    "\n",
    "# calcular área total del terreno\n",
    "att = a1 - a2 - a3\n",
    "\n",
    "# calcular valor del terreno\n",
    "vtt = att * 3450\n",
    "\n",
    "print(\"El valor del terreno es: $\", vtt)"
   ]
  },
  {
   "cell_type": "code",
   "execution_count": 11,
   "metadata": {
    "colab": {
     "base_uri": "https://localhost:8080/"
    },
    "executionInfo": {
     "elapsed": 14,
     "status": "ok",
     "timestamp": 1738847765551,
     "user": {
      "displayName": "Enrique Gonzalez",
      "userId": "11537615501324889345"
     },
     "user_tz": 360
    },
    "id": "kKIaOF4MuC_C",
    "outputId": "b0194633-7497-46af-a45c-19967a87df1f"
   },
   "outputs": [
    {
     "name": "stdout",
     "output_type": "stream",
     "text": [
      "El valor del terreno es: $ 75900.0  pagado a crédito\n",
      "El valor del terreno es: $ 75900.0 pagado a crédito\n",
      "El valor del terreno es: $75,900.0 pagado a crédito\n"
     ]
    }
   ],
   "source": [
    "print(\"El valor del terreno es: $\", vtt , \" pagado a crédito\")\n",
    "print(f\"El valor del terreno es: $ {vtt} pagado a crédito\")\n",
    "print(f\"El valor del terreno es: ${vtt:,} pagado a crédito\")\n"
   ]
  },
  {
   "cell_type": "markdown",
   "metadata": {
    "id": "mmTl8e4QnCVs"
   },
   "source": [
    "## 2. Condicionales"
   ]
  },
  {
   "cell_type": "markdown",
   "metadata": {
    "id": "j_0OGNuIpe7j"
   },
   "source": [
    "* Se les conoce comúnmente como “If’s”. IF es la estructura básica.\n",
    "* Se hace una pregunta, si se contesta con verdadero se ejecutan los estatutos dentro de su bloque.\n",
    "* En caso de responderse con falso, no se hace nada.\n",
    "* What is False:\n",
    "  * Boolean: False\n",
    "  * Null: None\n",
    "  * Zero int: 0\n",
    "  * Zero float: 0.0\n",
    "  * Empty string: ' '\n",
    "  * Empty list: [ ]\n",
    "  * Empty tuple: { }\n",
    "  * Emtpy set: ( )"
   ]
  },
  {
   "cell_type": "markdown",
   "metadata": {
    "id": "r-i9YN11o1YI"
   },
   "source": [
    "### Ejemplos"
   ]
  },
  {
   "cell_type": "markdown",
   "metadata": {
    "id": "ntxkeFQqo750"
   },
   "source": [
    "#### 2.1. Busca el mayor de 2 números"
   ]
  },
  {
   "cell_type": "code",
   "execution_count": 13,
   "metadata": {
    "colab": {
     "base_uri": "https://localhost:8080/"
    },
    "executionInfo": {
     "elapsed": 4807,
     "status": "ok",
     "timestamp": 1738851326704,
     "user": {
      "displayName": "Enrique Gonzalez",
      "userId": "11537615501324889345"
     },
     "user_tz": 360
    },
    "id": "MQmL-OZToyUy",
    "outputId": "d063242c-deb1-4918-f4ab-2aa73790fd25"
   },
   "outputs": [
    {
     "name": "stdout",
     "output_type": "stream",
     "text": [
      "x es mayor\n"
     ]
    }
   ],
   "source": [
    "# un programa que pide 2 números y encuentra el mayor\n",
    "# un ejemplo de cómo implemento if\n",
    "x = int(input(\"dame x: \")) # el dato lo convierto de texto a número\n",
    "y = int(input(\"dame y: \"))\n",
    "\n",
    "if y < x:\n",
    "    print(\"x es mayor\")\n",
    "elif y == x:\n",
    "    print(\"son iguales\")\n",
    "else:\n",
    "    print(\"y es mayor\")"
   ]
  },
  {
   "cell_type": "markdown",
   "metadata": {},
   "source": [
    "#### 2.2 Identidad secreta"
   ]
  },
  {
   "cell_type": "code",
   "execution_count": null,
   "metadata": {},
   "outputs": [],
   "source": [
    "superhero = \"Spiderman\"\n",
    "if superhero == \"Superman\":\n",
    "  secret_identity = \"Clark Kent\"\n",
    "elif superhero == \"Batman\":\n",
    "  secret_identity = \"Bruce Wayne\"\n",
    "elif superhero == \"Spiderman\":\n",
    "  secret_identity = \"Peter Parker\"\n",
    "else:\n",
    "  secret_identity = \"?\"\n",
    "\n",
    "print(secret_identity)"
   ]
  },
  {
   "cell_type": "markdown",
   "metadata": {},
   "source": [
    "## 3. Arrays and Matrices"
   ]
  },
  {
   "cell_type": "markdown",
   "metadata": {},
   "source": [
    "Main Differences between Python List and NumPy Array: \n",
    "\n",
    "* Data Type:\n",
    "    * Python List: can contain elements of different types (int, float, string, objects, etc.).\n",
    "    * NumPy Array (ndarray): all elements must be of the same type (homogeneous, defined by dtype).\n",
    "* NumPy arrays are stored at one continuous place in memory unlike lists, \n",
    "* So processes can access and manipulate them very efficiently:\n",
    "    * This makes arrays much more efficient in terms of memory and speed."
   ]
  },
  {
   "cell_type": "code",
   "execution_count": 14,
   "metadata": {},
   "outputs": [],
   "source": [
    "# importamos librerías\n",
    "import warnings\n",
    "warnings.filterwarnings(\"ignore\")\n",
    "import numpy as np # to use numpy arrays instead of lists"
   ]
  },
  {
   "cell_type": "code",
   "execution_count": 15,
   "metadata": {},
   "outputs": [
    {
     "name": "stdout",
     "output_type": "stream",
     "text": [
      "[1, 2, 3]\n",
      "[1 2 3]\n"
     ]
    }
   ],
   "source": [
    "# we can create an np.array from a list of numbers\n",
    "alist = [1, 2, 3]\n",
    "arr = np.array(alist)\n",
    "\n",
    "print(alist)\n",
    "print(arr)"
   ]
  },
  {
   "cell_type": "code",
   "execution_count": 16,
   "metadata": {},
   "outputs": [
    {
     "name": "stdout",
     "output_type": "stream",
     "text": [
      "['cat' 'horse' 'dog']\n"
     ]
    }
   ],
   "source": [
    "# we can create an np.array from a list of strings\n",
    "arr = np.array([\"cat\", \"horse\", \"dog\"])\n",
    "print(arr)"
   ]
  },
  {
   "cell_type": "code",
   "execution_count": 17,
   "metadata": {},
   "outputs": [
    {
     "name": "stdout",
     "output_type": "stream",
     "text": [
      "[0. 0. 0. 0. 0.]\n"
     ]
    }
   ],
   "source": [
    "# Creating an array of zeros with five elements\n",
    "arr = np.zeros(5)\n",
    "print(arr)"
   ]
  },
  {
   "cell_type": "code",
   "execution_count": 18,
   "metadata": {},
   "outputs": [
    {
     "name": "stdout",
     "output_type": "stream",
     "text": [
      "[1. 1. 1. 1. 1. 1. 1. 1.]\n"
     ]
    }
   ],
   "source": [
    "# we can create an array of ones with 8 elements\n",
    "arr = np.ones(8)\n",
    "print(arr)"
   ]
  },
  {
   "cell_type": "code",
   "execution_count": 19,
   "metadata": {},
   "outputs": [
    {
     "name": "stdout",
     "output_type": "stream",
     "text": [
      "[ 0  1  2  3  4  5  6  7  8  9 10 11 12 13 14 15 16 17 18 19 20 21 22 23\n",
      " 24 25 26 27 28 29 30 31 32 33 34 35 36 37 38 39 40 41 42 43 44 45 46 47\n",
      " 48 49 50 51 52 53 54 55 56 57 58 59 60 61 62 63 64 65 66 67 68 69 70 71\n",
      " 72 73 74 75 76 77 78 79 80 81 82 83 84 85 86 87 88 89 90 91 92 93 94 95\n",
      " 96 97 98 99]\n"
     ]
    }
   ],
   "source": [
    "# we can create an array going from 0 to 99\n",
    "arr = np.arange(100)\n",
    "print(arr)"
   ]
  },
  {
   "cell_type": "code",
   "execution_count": 23,
   "metadata": {},
   "outputs": [
    {
     "name": "stdout",
     "output_type": "stream",
     "text": [
      "[50 33 88 45 86 42 64 17 71 74]\n",
      "\n",
      "33\n",
      "\n",
      "[50 33 88 45 86]\n"
     ]
    }
   ],
   "source": [
    "arr = np.random.randint(0, 100, size=10)\n",
    "print(arr)\n",
    "print()\n",
    "# we can access the different elements of the array\n",
    "# we display the second element of the first array\n",
    "print(arr[1])\n",
    "print()\n",
    "# we display the first five elements\n",
    "print(arr[0:5])  "
   ]
  },
  {
   "cell_type": "code",
   "execution_count": 27,
   "metadata": {},
   "outputs": [
    {
     "name": "stdout",
     "output_type": "stream",
     "text": [
      "[[1 2 3]\n",
      " [4 5 6]\n",
      " [7 8 9]]\n",
      "Dimensions:  2\n",
      "Shape:  (3, 3)\n"
     ]
    }
   ],
   "source": [
    "# we can create a 2D array\n",
    "arr = np.array([[1, 2, 3], [4, 5, 6], [7, 8, 9]])\n",
    "print(arr)\n",
    "# we can check the number of dimensions and the shape\n",
    "print(\"Dimensions: \", arr.ndim)\n",
    "print(\"Shape: \", arr.shape)"
   ]
  },
  {
   "cell_type": "code",
   "execution_count": 28,
   "metadata": {},
   "outputs": [
    {
     "name": "stdout",
     "output_type": "stream",
     "text": [
      "[4 5 6]\n",
      "\n",
      "[[1 2 3]\n",
      " [4 5 6]]\n",
      "\n",
      "5\n",
      "5\n",
      "\n",
      "[7 8]\n",
      "[7 8]\n"
     ]
    }
   ],
   "source": [
    "# for the matrix  we must consider the dimensions\n",
    "# the results will be different\n",
    "print(arr[1])\n",
    "print()\n",
    "print(arr[0:2])\n",
    "print()\n",
    "print(arr[1][1])\n",
    "print(arr[1, 1])\n",
    "print()\n",
    "print(arr[2][0:2])\n",
    "print(arr[2, 0:2])"
   ]
  },
  {
   "cell_type": "code",
   "execution_count": 21,
   "metadata": {},
   "outputs": [
    {
     "name": "stdout",
     "output_type": "stream",
     "text": [
      "[[[ 1  2  3]\n",
      "  [ 4  5  6]]\n",
      "\n",
      " [[ 7  8  9]\n",
      "  [10 11 12]]\n",
      "\n",
      " [[ 1  2  3]\n",
      "  [10 11 12]]]\n",
      "\n",
      "Dimensions:  3\n",
      "Shape:  (3, 2, 3)\n"
     ]
    }
   ],
   "source": [
    "# we can create a 3D array\n",
    "arr = np.array([[[1, 2, 3], [4, 5, 6]], [[7, 8, 9], [10, 11, 12]], [[1, 2, 3], [10, 11, 12]]])\n",
    "print(arr)\n",
    "print()\n",
    "# we can check the number of dimensions\n",
    "print(\"Dimensions: \", arr.ndim)\n",
    "print(\"Shape: \", arr.shape)"
   ]
  },
  {
   "cell_type": "markdown",
   "metadata": {
    "id": "9zYqy23KdOgD"
   },
   "source": [
    "## 4. DataFrames"
   ]
  },
  {
   "cell_type": "markdown",
   "metadata": {},
   "source": [
    "Pandas:\n",
    "* Pandas is a Python library for data manipulation and analysis.\n",
    "* Is primarily centered around two data structures: Series and DataFrames.\n",
    "    * Series and DataFrames are fundamental data structures in various programming languages and libraries commonly used in data analysis and statistics.\n",
    "    * They provide a flexible and intuitive way to store, organize, and work with tabular data.\n",
    "    * They are ideal for tasks like data cleaning, analysis, and visualization."
   ]
  },
  {
   "cell_type": "markdown",
   "metadata": {},
   "source": [
    "DataFrames:\n",
    "* A two-dimensional labeled data structure with columns of potentially different types:\n",
    "    * Unlike matrices, which require all elements to be of the same data type.\n",
    "* It can be conceptualized as a table or spreadsheet, organizing data in rows and columns. \n",
    "* A DataFrame can be considered a collection of Series objects, where each Series represents a column. "
   ]
  },
  {
   "cell_type": "code",
   "execution_count": 29,
   "metadata": {
    "id": "SLZfKPQ2TJBD"
   },
   "outputs": [],
   "source": [
    "import pandas as pd # librería para poder usad DataFrames (tablas)"
   ]
  },
  {
   "cell_type": "code",
   "execution_count": 35,
   "metadata": {
    "id": "IfCR5qCTYLqp"
   },
   "outputs": [
    {
     "name": "stdout",
     "output_type": "stream",
     "text": [
      "     A   B   C   D\n",
      "0   45   9  19  28\n",
      "1   65  46  54   2\n",
      "2   93  56  60  79\n",
      "3   54  49  10  22\n",
      "4   45   7  86  80\n",
      "..  ..  ..  ..  ..\n",
      "95  68  89  40  97\n",
      "96  42  90  52  62\n",
      "97  57  80  44  60\n",
      "98  33  56  82  21\n",
      "99  93  88  51  88\n",
      "\n",
      "[100 rows x 4 columns]\n"
     ]
    }
   ],
   "source": [
    "# create a pandas DataFrame of 100 rows and 4 columns with random values using numpy\n",
    "df = pd.DataFrame(np.random.randint(0,100,size=(100, 4)), columns=list('ABCD'))\n",
    "# we display the data frame\n",
    "print(df)"
   ]
  },
  {
   "cell_type": "code",
   "execution_count": 36,
   "metadata": {
    "colab": {
     "base_uri": "https://localhost:8080/",
     "height": 363
    },
    "executionInfo": {
     "elapsed": 25,
     "status": "ok",
     "timestamp": 1738934474626,
     "user": {
      "displayName": "Enrique Gonzalez",
      "userId": "11537615501324889345"
     },
     "user_tz": 360
    },
    "id": "h4OKQREEumt7",
    "outputId": "adcb7941-71c1-4857-b0c1-7dcedd73bac5"
   },
   "outputs": [
    {
     "data": {
      "text/html": [
       "<div>\n",
       "<style scoped>\n",
       "    .dataframe tbody tr th:only-of-type {\n",
       "        vertical-align: middle;\n",
       "    }\n",
       "\n",
       "    .dataframe tbody tr th {\n",
       "        vertical-align: top;\n",
       "    }\n",
       "\n",
       "    .dataframe thead th {\n",
       "        text-align: right;\n",
       "    }\n",
       "</style>\n",
       "<table border=\"1\" class=\"dataframe\">\n",
       "  <thead>\n",
       "    <tr style=\"text-align: right;\">\n",
       "      <th></th>\n",
       "      <th>A</th>\n",
       "      <th>B</th>\n",
       "      <th>C</th>\n",
       "      <th>D</th>\n",
       "    </tr>\n",
       "  </thead>\n",
       "  <tbody>\n",
       "    <tr>\n",
       "      <th>0</th>\n",
       "      <td>45</td>\n",
       "      <td>9</td>\n",
       "      <td>19</td>\n",
       "      <td>28</td>\n",
       "    </tr>\n",
       "    <tr>\n",
       "      <th>1</th>\n",
       "      <td>65</td>\n",
       "      <td>46</td>\n",
       "      <td>54</td>\n",
       "      <td>2</td>\n",
       "    </tr>\n",
       "    <tr>\n",
       "      <th>2</th>\n",
       "      <td>93</td>\n",
       "      <td>56</td>\n",
       "      <td>60</td>\n",
       "      <td>79</td>\n",
       "    </tr>\n",
       "    <tr>\n",
       "      <th>3</th>\n",
       "      <td>54</td>\n",
       "      <td>49</td>\n",
       "      <td>10</td>\n",
       "      <td>22</td>\n",
       "    </tr>\n",
       "    <tr>\n",
       "      <th>4</th>\n",
       "      <td>45</td>\n",
       "      <td>7</td>\n",
       "      <td>86</td>\n",
       "      <td>80</td>\n",
       "    </tr>\n",
       "  </tbody>\n",
       "</table>\n",
       "</div>"
      ],
      "text/plain": [
       "    A   B   C   D\n",
       "0  45   9  19  28\n",
       "1  65  46  54   2\n",
       "2  93  56  60  79\n",
       "3  54  49  10  22\n",
       "4  45   7  86  80"
      ]
     },
     "execution_count": 36,
     "metadata": {},
     "output_type": "execute_result"
    }
   ],
   "source": [
    "# we display the first rows of the DataFrame, n rows by default\n",
    "df.head()"
   ]
  },
  {
   "cell_type": "code",
   "execution_count": 37,
   "metadata": {},
   "outputs": [
    {
     "data": {
      "text/html": [
       "<div>\n",
       "<style scoped>\n",
       "    .dataframe tbody tr th:only-of-type {\n",
       "        vertical-align: middle;\n",
       "    }\n",
       "\n",
       "    .dataframe tbody tr th {\n",
       "        vertical-align: top;\n",
       "    }\n",
       "\n",
       "    .dataframe thead th {\n",
       "        text-align: right;\n",
       "    }\n",
       "</style>\n",
       "<table border=\"1\" class=\"dataframe\">\n",
       "  <thead>\n",
       "    <tr style=\"text-align: right;\">\n",
       "      <th></th>\n",
       "      <th>A</th>\n",
       "      <th>B</th>\n",
       "      <th>C</th>\n",
       "      <th>D</th>\n",
       "    </tr>\n",
       "  </thead>\n",
       "  <tbody>\n",
       "    <tr>\n",
       "      <th>92</th>\n",
       "      <td>0</td>\n",
       "      <td>63</td>\n",
       "      <td>80</td>\n",
       "      <td>42</td>\n",
       "    </tr>\n",
       "    <tr>\n",
       "      <th>93</th>\n",
       "      <td>39</td>\n",
       "      <td>55</td>\n",
       "      <td>29</td>\n",
       "      <td>29</td>\n",
       "    </tr>\n",
       "    <tr>\n",
       "      <th>94</th>\n",
       "      <td>81</td>\n",
       "      <td>35</td>\n",
       "      <td>27</td>\n",
       "      <td>56</td>\n",
       "    </tr>\n",
       "    <tr>\n",
       "      <th>95</th>\n",
       "      <td>68</td>\n",
       "      <td>89</td>\n",
       "      <td>40</td>\n",
       "      <td>97</td>\n",
       "    </tr>\n",
       "    <tr>\n",
       "      <th>96</th>\n",
       "      <td>42</td>\n",
       "      <td>90</td>\n",
       "      <td>52</td>\n",
       "      <td>62</td>\n",
       "    </tr>\n",
       "    <tr>\n",
       "      <th>97</th>\n",
       "      <td>57</td>\n",
       "      <td>80</td>\n",
       "      <td>44</td>\n",
       "      <td>60</td>\n",
       "    </tr>\n",
       "    <tr>\n",
       "      <th>98</th>\n",
       "      <td>33</td>\n",
       "      <td>56</td>\n",
       "      <td>82</td>\n",
       "      <td>21</td>\n",
       "    </tr>\n",
       "    <tr>\n",
       "      <th>99</th>\n",
       "      <td>93</td>\n",
       "      <td>88</td>\n",
       "      <td>51</td>\n",
       "      <td>88</td>\n",
       "    </tr>\n",
       "  </tbody>\n",
       "</table>\n",
       "</div>"
      ],
      "text/plain": [
       "     A   B   C   D\n",
       "92   0  63  80  42\n",
       "93  39  55  29  29\n",
       "94  81  35  27  56\n",
       "95  68  89  40  97\n",
       "96  42  90  52  62\n",
       "97  57  80  44  60\n",
       "98  33  56  82  21\n",
       "99  93  88  51  88"
      ]
     },
     "execution_count": 37,
     "metadata": {},
     "output_type": "execute_result"
    }
   ],
   "source": [
    "# we display the last 8 rows of the DataFrame\n",
    "df.tail(8)"
   ]
  },
  {
   "cell_type": "code",
   "execution_count": 38,
   "metadata": {},
   "outputs": [
    {
     "data": {
      "text/html": [
       "<div>\n",
       "<style scoped>\n",
       "    .dataframe tbody tr th:only-of-type {\n",
       "        vertical-align: middle;\n",
       "    }\n",
       "\n",
       "    .dataframe tbody tr th {\n",
       "        vertical-align: top;\n",
       "    }\n",
       "\n",
       "    .dataframe thead th {\n",
       "        text-align: right;\n",
       "    }\n",
       "</style>\n",
       "<table border=\"1\" class=\"dataframe\">\n",
       "  <thead>\n",
       "    <tr style=\"text-align: right;\">\n",
       "      <th></th>\n",
       "      <th>A</th>\n",
       "      <th>B</th>\n",
       "      <th>C</th>\n",
       "      <th>D</th>\n",
       "    </tr>\n",
       "  </thead>\n",
       "  <tbody>\n",
       "    <tr>\n",
       "      <th>12</th>\n",
       "      <td>77</td>\n",
       "      <td>27</td>\n",
       "      <td>25</td>\n",
       "      <td>66</td>\n",
       "    </tr>\n",
       "    <tr>\n",
       "      <th>40</th>\n",
       "      <td>89</td>\n",
       "      <td>80</td>\n",
       "      <td>5</td>\n",
       "      <td>34</td>\n",
       "    </tr>\n",
       "    <tr>\n",
       "      <th>34</th>\n",
       "      <td>2</td>\n",
       "      <td>64</td>\n",
       "      <td>55</td>\n",
       "      <td>63</td>\n",
       "    </tr>\n",
       "    <tr>\n",
       "      <th>17</th>\n",
       "      <td>4</td>\n",
       "      <td>23</td>\n",
       "      <td>82</td>\n",
       "      <td>50</td>\n",
       "    </tr>\n",
       "    <tr>\n",
       "      <th>56</th>\n",
       "      <td>66</td>\n",
       "      <td>13</td>\n",
       "      <td>73</td>\n",
       "      <td>46</td>\n",
       "    </tr>\n",
       "    <tr>\n",
       "      <th>51</th>\n",
       "      <td>12</td>\n",
       "      <td>99</td>\n",
       "      <td>14</td>\n",
       "      <td>31</td>\n",
       "    </tr>\n",
       "    <tr>\n",
       "      <th>49</th>\n",
       "      <td>28</td>\n",
       "      <td>6</td>\n",
       "      <td>9</td>\n",
       "      <td>35</td>\n",
       "    </tr>\n",
       "  </tbody>\n",
       "</table>\n",
       "</div>"
      ],
      "text/plain": [
       "     A   B   C   D\n",
       "12  77  27  25  66\n",
       "40  89  80   5  34\n",
       "34   2  64  55  63\n",
       "17   4  23  82  50\n",
       "56  66  13  73  46\n",
       "51  12  99  14  31\n",
       "49  28   6   9  35"
      ]
     },
     "execution_count": 38,
     "metadata": {},
     "output_type": "execute_result"
    }
   ],
   "source": [
    " # we display 7 random rows of the DataFrame\n",
    "df.sample(7) "
   ]
  },
  {
   "cell_type": "code",
   "execution_count": 39,
   "metadata": {},
   "outputs": [
    {
     "data": {
      "text/plain": [
       "400"
      ]
     },
     "execution_count": 39,
     "metadata": {},
     "output_type": "execute_result"
    }
   ],
   "source": [
    "# we display the size of the DataFrame\n",
    "# the size is the number of elements in the DataFrame\n",
    "df.size"
   ]
  },
  {
   "cell_type": "code",
   "execution_count": 40,
   "metadata": {},
   "outputs": [
    {
     "data": {
      "text/plain": [
       "400"
      ]
     },
     "execution_count": 40,
     "metadata": {},
     "output_type": "execute_result"
    }
   ],
   "source": [
    "# we display the size of the DataFrame\n",
    "# the size is the number of elements in the DataFrame\n",
    "df.size"
   ]
  },
  {
   "cell_type": "code",
   "execution_count": null,
   "metadata": {},
   "outputs": [],
   "source": [
    "# we display the number of dimensions of the DataFrame\n",
    "df.ndim"
   ]
  },
  {
   "cell_type": "code",
   "execution_count": null,
   "metadata": {},
   "outputs": [],
   "source": [
    "# we display the shape of the DataFrame\n",
    "# the shape is the number of rows and colums: the tuple representing the dimensions of the DataFrame\n",
    "df.shape"
   ]
  },
  {
   "cell_type": "code",
   "execution_count": null,
   "metadata": {},
   "outputs": [],
   "source": [
    "# we display the names of the columns in the DataFrame\n",
    "df.columns"
   ]
  },
  {
   "cell_type": "code",
   "execution_count": null,
   "metadata": {},
   "outputs": [],
   "source": [
    "# we display the number of non-null values in the DataFrame\n",
    "df.count()"
   ]
  },
  {
   "cell_type": "code",
   "execution_count": 33,
   "metadata": {
    "id": "4AU4aFoiu6FX"
   },
   "outputs": [],
   "source": [
    "datos = [[1,2,3],[4,5,6],[7,8,9]]"
   ]
  },
  {
   "cell_type": "code",
   "execution_count": 34,
   "metadata": {
    "colab": {
     "base_uri": "https://localhost:8080/",
     "height": 143
    },
    "executionInfo": {
     "elapsed": 62,
     "status": "ok",
     "timestamp": 1738934667466,
     "user": {
      "displayName": "Enrique Gonzalez",
      "userId": "11537615501324889345"
     },
     "user_tz": 360
    },
    "id": "zie0RCs4vc6O",
    "outputId": "49a0962b-3037-4079-f369-b7947b9e6a71"
   },
   "outputs": [
    {
     "name": "stdout",
     "output_type": "stream",
     "text": [
      "   A  B  C\n",
      "0  1  2  3\n",
      "1  4  5  6\n",
      "2  7  8  9\n"
     ]
    }
   ],
   "source": [
    "df2 = pd.DataFrame(datos, columns=list('ABC'))#['col1', 'col2', 'col3'])\n",
    "print(df2)"
   ]
  }
 ],
 "metadata": {
  "colab": {
   "authorship_tag": "ABX9TyNcYsjY+HmG/dCKY9/yiyql",
   "provenance": []
  },
  "kernelspec": {
   "display_name": "base",
   "language": "python",
   "name": "python3"
  },
  "language_info": {
   "codemirror_mode": {
    "name": "ipython",
    "version": 3
   },
   "file_extension": ".py",
   "mimetype": "text/x-python",
   "name": "python",
   "nbconvert_exporter": "python",
   "pygments_lexer": "ipython3",
   "version": "3.10.11"
  }
 },
 "nbformat": 4,
 "nbformat_minor": 0
}
